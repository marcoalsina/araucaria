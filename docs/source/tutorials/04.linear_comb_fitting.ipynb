{
 "cells": [
  {
   "cell_type": "markdown",
   "metadata": {},
   "source": [
    "## Part 4: Linear combination fitting\n",
    "\n",
    "*by Morgane Desmau & Marco Alsina*\n",
    "\n",
    "*Last update: May 2021*\n",
    "\n",
    "The following notebook explains the following:\n",
    "\n",
    "1. Perform linear combination fitting (LCF) of spectra.\n",
    "\n",
    "**Important:** This tutorial assumes you have succesfully completed the previous tutorials in the series:\n",
    "\n",
    "- [Part 1: Basics of data processing](01.basics_data_processing.ipynb)\n",
    "- [Part 2: Normalization and background removal](02.background_removal.ipynb)\n",
    "- [Part 3: Creating custom report and figures](03.custom_report_figure.ipynb)\n"
   ]
  },
  {
   "cell_type": "code",
   "execution_count": 1,
   "metadata": {},
   "outputs": [
    {
     "name": "stdout",
     "output_type": "stream",
     "text": [
      "Python version      : 3.9.4\n",
      "Numpy version       : 1.20.3\n",
      "Scipy version       : 1.6.3\n",
      "Lmfit version       : 1.0.2\n",
      "H5py version        : 3.2.1\n",
      "Matplotlib version  : 3.4.2\n",
      "Araucaria version   : 0.1.8\n"
     ]
    }
   ],
   "source": [
    "# checking version of araucaria and dependencies\n",
    "from araucaria.utils import get_version\n",
    "print(get_version(dependencies=True))"
   ]
  },
  {
   "cell_type": "markdown",
   "metadata": {},
   "source": [
    "### 1. Accesing the database\n",
    "\n",
    "In this case we will be reading and processing a minerals database measured at the Fe K-edge in the P65 beamline of DESY, Hamburg (data kindly provided by Morgane Desmau):\n",
    "\n",
    "1. Fe_database.h5\n",
    "\n",
    "We first retrieve the filepath to the database and summarize its contents."
   ]
  },
  {
   "cell_type": "markdown",
   "metadata": {},
   "source": [
    "<div class=\"alert alert-info\">\n",
    "    \n",
    "    **Note**\n",
    "    \n",
    "    If you prefer to process your own database, just modify the filepath to point to the location of your file.\n",
    "</div>"
   ]
  },
  {
   "cell_type": "code",
   "execution_count": 2,
   "metadata": {},
   "outputs": [
    {
     "name": "stdout",
     "output_type": "stream",
     "text": [
      "========================================\n",
      "id  dataset                 mode    n   \n",
      "========================================\n",
      "1   FeIISO4_20K             mu      5   \n",
      "2   Fe_Foil                 mu_ref  5   \n",
      "3   Ferrihydrite_20K        mu      5   \n",
      "4   Goethite_20K            mu      5   \n",
      "5   Goethite_20K_10spectra  mu      10  \n",
      "========================================\n"
     ]
    }
   ],
   "source": [
    "# retrieving filepath\n",
    "from pathlib import Path\n",
    "from araucaria.testdata import get_testpath\n",
    "from araucaria.io import summary_hdf5\n",
    "\n",
    "fpath = get_testpath('Fe_database.h5')\n",
    "\n",
    "# summarizing database\n",
    "report = summary_hdf5(fpath)\n",
    "report.show()"
   ]
  },
  {
   "cell_type": "markdown",
   "metadata": {},
   "source": [
    "### 2. Creating a group to fit\n",
    "\n",
    "We will be creating an example signal to fit, considering a mixture of the 2 original signals from ferrihydrite and goethite minerals.\n",
    "The mixture will be created through the [merge()](../xas/xas_merge.rst#araucaria.xas.merge.merge) function. Note that the original signals are multiplied by amplitude factors, in order to prevent proportions larger than 1 during the fit.\n",
    "\n",
    "Finally we store the signals in a [Collection](../main/main_collection.rst#araucaria.main.collection.Collection) and produce a summary report."
   ]
  },
  {
   "cell_type": "code",
   "execution_count": 3,
   "metadata": {},
   "outputs": [
    {
     "name": "stdout",
     "output_type": "stream",
     "text": [
      "================================================\n",
      "id  dataset           tag   mode  n  edge_step  \n",
      "================================================\n",
      "1   Ferrihydrite_20K  ref   mu    5  0.28779    \n",
      "2   Goethite_20K      ref   mu    5  0.4169     \n",
      "3   sample            scan  mu    2  0.35121    \n",
      "================================================\n"
     ]
    }
   ],
   "source": [
    "from araucaria.io import read_hdf5\n",
    "from araucaria.xas import merge\n",
    "from araucaria import Collection\n",
    "\n",
    "# name of groups\n",
    "groupnames = ('Ferrihydrite_20K', 'Goethite_20K')\n",
    "amp        = [0.5, 0.5]\n",
    "\n",
    "# initializing collections\n",
    "collection = Collection()\n",
    "auxiliary  = Collection()\n",
    "\n",
    "for i,name in enumerate(groupnames):\n",
    "    group = read_hdf5(fpath, name)\n",
    "    collection.add_group(group, tag='ref')\n",
    "    \n",
    "    group.mu = amp[i]*group.mu\n",
    "    auxiliary.add_group(group)\n",
    "\n",
    "report, merge = merge(auxiliary, name='sample')\n",
    "collection.add_group(merge, tag='scan')\n",
    "\n",
    "report = collection.summary(optional=['edge_step'])\n",
    "report.show()"
   ]
  },
  {
   "cell_type": "markdown",
   "metadata": {},
   "source": [
    "### 3. Computing expected amplitudes from the LCF\n",
    "\n",
    "As seen from the summary report, the edge steps of the original signals are not equal. Therefore, a mixture with equal proportions of each signal will distribute with respect to the edge step values. We can compute the expected proportions by normalizing the percentages with respect to the sum of edge step values:"
   ]
  },
  {
   "cell_type": "code",
   "execution_count": 4,
   "metadata": {},
   "outputs": [
    {
     "name": "stdout",
     "output_type": "stream",
     "text": [
      "Ferrihydrite_20K: 0.408\n",
      "Goethite_20K    : 0.592\n"
     ]
    }
   ],
   "source": [
    "from numpy import sum\n",
    "\n",
    "edge_steps = report.get_cols(names=['edge_step'])[:2]\n",
    "edge_steps = [amp[i]*float(val) for i, val in enumerate(edge_steps)]\n",
    "amplitudes = edge_steps/sum(edge_steps)\n",
    "\n",
    "for i, val in enumerate(amplitudes):\n",
    "    print('{0:16}: {1:1.3f}'.format(groupnames[i], val))"
   ]
  },
  {
   "cell_type": "markdown",
   "metadata": {},
   "source": [
    "### 4. Performing XANES LCF\n",
    "\n",
    "Now we can perform the linear combination fitting analysis with the [lcf()](../fit/fit_lcf.rst#araucaria.fit.lcfit.lcf) function. Once the fit is finished we can print a summary with the [lcf_report()](../fit/fit_lcf.rst#araucaria.fit.lcfit.lcf_report) function."
   ]
  },
  {
   "cell_type": "code",
   "execution_count": 5,
   "metadata": {},
   "outputs": [
    {
     "name": "stdout",
     "output_type": "stream",
     "text": [
      "[[Parameters]]\n",
      "    fit_region         = xanes\n",
      "    fit_range          = [7092, 7182]\n",
      "    sum_one            = False\n",
      "    pre_edge_kws       = {'pre_range': [-160, -40], 'post_range': [140, 950], 'nvict': 0, 'e0': 7112, 'update': True}\n",
      "[[Groups]]\n",
      "    scan               = sample\n",
      "    ref1               = Ferrihydrite_20K\n",
      "    ref2               = Goethite_20K\n",
      "[[Fit Statistics]]\n",
      "    # fitting method   = leastsq\n",
      "    # function evals   = 10\n",
      "    # data points      = 168\n",
      "    # variables        = 2\n",
      "    chi-square         = 1.5177e-07\n",
      "    reduced chi-square = 9.1428e-10\n",
      "    Akaike info crit   = -3494.57580\n",
      "    Bayesian info crit = -3488.32787\n",
      "[[Variables]]\n",
      "    amp1:  0.40894498 +/- 9.9474e-05 (0.02%) (init = 0.5)\n",
      "    amp2:  0.59225273 +/- 9.9337e-05 (0.02%) (init = 0.5)\n",
      "[[Correlations]] (unreported correlations are < 0.100)\n",
      "    C(amp1, amp2) = -1.000\n"
     ]
    }
   ],
   "source": [
    "from araucaria.fit import lcf, lcf_report\n",
    "\n",
    "# parameters for normalization\n",
    "k_edge = 7112\n",
    "pre_edge_kws = {'pre_range' :[-160, -40],\n",
    "                'post_range': [140, 950], \n",
    "                'nvict'     :0, \n",
    "                'e0'        :k_edge}\n",
    "\n",
    "lcf_kws      = {'fit_region': 'xanes',\n",
    "                'sum_one'   : False,\n",
    "                'fit_range'  : [k_edge-20,k_edge+70]}\n",
    "\n",
    "out = lcf(collection, pre_edge_kws=pre_edge_kws, **lcf_kws)\n",
    "print(lcf_report(out))"
   ]
  },
  {
   "cell_type": "markdown",
   "metadata": {},
   "source": [
    "As seen in the fit report, our prediction for the amplitudes was accurate.\n",
    "We can visually compare the fitted curve with the original signal with the [fig_lcf()](../plot_module.rst#araucaria.plot.fig_lcf.fig_lcf) function.\n",
    "As usual, the function accepts a dictionary to set the parameters for the XAFS figures (`fig_pars`) as well as a dictionary to set general figure parameters (`fig_kws`). ) function"
   ]
  },
  {
   "cell_type": "code",
   "execution_count": 6,
   "metadata": {},
   "outputs": [
    {
     "data": {
      "image/png": "[encoded data removed]",
      "text/plain": [
       "<Figure size 576x360 with 2 Axes>"
      ]
     },
     "metadata": {
      "needs_background": "light"
     },
     "output_type": "display_data"
    }
   ],
   "source": [
    "import matplotlib.pyplot as plt\n",
    "from araucaria.plot import fig_lcf\n",
    "\n",
    "# figure parameters\n",
    "offset   = 0.5\n",
    "fig_kws  = {'figsize'   : (8, 5)}  # size figure\n",
    "fig_pars = {'e_range'  : (k_edge-50, k_edge+90),\n",
    "           'e_ticks'   : [k_edge-51, k_edge-3, k_edge+44, k_edge+91],\n",
    "           'prop_cycle': [{'color'     : ['black', 'red', 'forestgreen'],\n",
    "                           'linewidth' : [1.5    , 1.5  , 1.5          ],},\n",
    "                          {'color'     : ['black', 'red', 'grey'],\n",
    "                           'linewidth' : [1.5    , 1.5  , 1.5   ],}\n",
    "                         ]}\n",
    "\n",
    "fig, ax = fig_lcf(out, fig_pars=fig_pars, **fig_kws)\n",
    "fig.tight_layout()\n",
    "plt.show()"
   ]
  }
 ],
 "metadata": {
  "kernelspec": {
   "display_name": "Python 3",
   "language": "python",
   "name": "python3"
  },
  "language_info": {
   "codemirror_mode": {
    "name": "ipython",
    "version": 3
   },
   "file_extension": ".py",
   "mimetype": "text/x-python",
   "name": "python",
   "nbconvert_exporter": "python",
   "pygments_lexer": "ipython3",
   "version": "3.9.4"
  }
 },
 "nbformat": 4,
 "nbformat_minor": 4
}
