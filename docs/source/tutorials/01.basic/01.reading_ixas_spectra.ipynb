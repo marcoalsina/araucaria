{
 "cells": [
  {
   "cell_type": "markdown",
   "metadata": {},
   "source": [
    "## Reading IXAS spectra\n",
    "\n",
    "*Last update: June 2021*\n",
    "\n",
    "The International X-ray Absorption Society ([IXAS](https://xrayabsorption.org)) maintains a [data library of XAFS spectra](https://xaslib.xrayabsorption.org/elem/) for several compounds and absorption edges. In this tutorial we will be accesing this library to retrieve spectra and perform basic operation and visualizaion tasks in `araucaria`.\n",
    "\n",
    "This notebook explains the the following steps:\n",
    "\n",
    "1. Read spectra from a uniform resource locator (URL).\n",
    "2. Create a collection with the spectra.\n",
    "3. Plot processed spectra."
   ]
  },
  {
   "cell_type": "code",
   "execution_count": 1,
   "metadata": {},
   "outputs": [
    {
     "name": "stdout",
     "output_type": "stream",
     "text": [
      "Python version      : 3.9.4\n",
      "Numpy version       : 1.20.3\n",
      "Scipy version       : 1.6.3\n",
      "Lmfit version       : 1.0.2\n",
      "H5py version        : 3.2.1\n",
      "Matplotlib version  : 3.4.2\n",
      "Araucaria version   : 0.1.10\n"
     ]
    }
   ],
   "source": [
    "from araucaria.utils import get_version\n",
    "print(get_version(dependencies=True))"
   ]
  },
  {
   "cell_type": "markdown",
   "metadata": {},
   "source": [
    "### 2. Reading spectra directly from a URL\n",
    "\n",
    "The IXAS data library offers a [website frontend](https://xaslib.xrayabsorption.org/elem/) to download data in your local machine. However, we will be reading it directly with assistance of the [urllib](https://docs.python.org/3/library/urllib.html) module of Python.\n",
    "\n",
    "Here we will retrieve the following spectra acquired at the Se K-edge in the Advanced Photon Source synchrotron:\n",
    "\n",
    "| Name           | ID  |\n",
    "| :-             | --- |\n",
    "| Se_CoSe_rt_01  | 185 |\n",
    "| Se_Cu2Se_rt_01 | 187 |\n",
    "| Se_CuSe_rt_01  | 189 |\n",
    "\n",
    "\n",
    "For convenience we will first create a dictionary with the names and ID of spectra. We will then use this dictionary to construct a list with the URLs:"
   ]
  },
  {
   "cell_type": "code",
   "execution_count": 2,
   "metadata": {},
   "outputs": [
    {
     "name": "stdout",
     "output_type": "stream",
     "text": [
      "https://xaslib.xrayabsorption.org/rawfile/185/Se_CoSe_rt_01.xdi\n",
      "https://xaslib.xrayabsorption.org/rawfile/187/Se_Cu2Se_rt_01.xdi\n",
      "https://xaslib.xrayabsorption.org/rawfile/189/Se_CuSe_rt_01.xdi\n"
     ]
    }
   ],
   "source": [
    "from os.path import join\n",
    "\n",
    "# dictionary with names and IDs\n",
    "dvals = {'names': ['Se_'+name+'_rt_01.xdi' for name in ['CoSe', 'Cu2Se', 'CuSe'] ],\n",
    "         'id'   : ['185' , '187', '189']}\n",
    "\n",
    "# constructing urls\n",
    "urls   = []\n",
    "static = 'https://xaslib.xrayabsorption.org/rawfile/'\n",
    "for i, name in enumerate(dvals['names']):\n",
    "    urls.append(static + dvals['id'][i] + '/' + name)\n",
    "\n",
    "# printing urls\n",
    "for val in urls:\n",
    "    print(val)"
   ]
  },
  {
   "cell_type": "markdown",
   "metadata": {},
   "source": [
    "<div class=\"alert alert-info\">\n",
    "    \n",
    "    **Note**\n",
    "    \n",
    "    If you want to access diferent spectra, just modify the dictionary with the names and ID of the desired spectra. Such values are available at the IXAS data library website.\n",
    "</div>"
   ]
  },
  {
   "cell_type": "markdown",
   "metadata": {},
   "source": [
    "Before reading the data we need to know the file format. For this we will be printing the header of the last file with the [urlopen()](https://docs.python.org/3/library/urllib.request.html#urllib.request.urlopen) function of urllib: "
   ]
  },
  {
   "cell_type": "code",
   "execution_count": 3,
   "metadata": {
    "scrolled": false
   },
   "outputs": [
    {
     "name": "stdout",
     "output_type": "stream",
     "text": [
      "0 b'#XDI/1.1  GSE/1.0'\n",
      "1 b'# Column.1: energy eV'\n",
      "2 b'# Column.2: itrans'\n",
      "3 b'# Column.3: i0'\n",
      "4 b'# Scan.end_time: 2008-04-10 19:35:01'\n",
      "5 b'# Scan.start_time: 2008-04-10 19:17:19'\n",
      "6 b'# Element.symbol:  Se'\n",
      "7 b'# Element.edge:  K'\n",
      "8 b'# Mono.d_spacing:  3.13555'\n",
      "9 b'# Mono.name: Si 111'\n",
      "10 b'# Sample.temperature: room temperature'\n",
      "11 b'# Sample.formula: CuSe'\n",
      "12 b'# Sample.name: copper selenide, klockmannite'\n",
      "13 b'# Sample.prep: powder on tape, many layers'\n",
      "14 b'# Facility.Name:  APS'\n",
      "15 b'# Beamline.Name:  13-BM-D'\n",
      "16 b'# Beamline.xray_source:  bending magnet'\n",
      "17 b'# Beamline.Storage_Ring_Current: 101.873'\n",
      "18 b'# Beamline.I0: N2, 5 nA/V'\n",
      "19 b'# Beamline.I1: N2, 20 nA/V'\n",
      "20 b'# ScanParameters.E0: 12658.0'\n",
      "21 b'# ScanParameters.Legend: Start       Stop       Step       Npts       Time   Kspace?'\n",
      "22 b'# ScanParameters.Region1: -150.00    -10.000     5.0000     29.000     2.0000   0'\n",
      "23 b'# ScanParameters.Region2: -10.000     30.000    0.25000     161.00     2.0000   0'\n",
      "24 b'# ScanParameters.Region3: 2.8061     14.000   0.039978     281.00     2.0000   1'\n",
      "25 b'#-------------------------'\n",
      "26 b'#  energy  itrans  i0'\n",
      "27 b'12508.000   493738.40    120177.40'\n",
      "28 b'12513.000   490898.40    119360.40'\n",
      "29 b'12518.000   489640.40    118973.40'\n"
     ]
    }
   ],
   "source": [
    "from urllib.request import urlopen\n",
    "\n",
    "response = urlopen(val)\n",
    "for i in range(30):\n",
    "    print(i, response.readline().strip())"
   ]
  },
  {
   "cell_type": "markdown",
   "metadata": {},
   "source": [
    "As seen from the output (line 26), the file contains columns for the energy, transmitted intensity (itrans), and reference itensity (i0), in that order."
   ]
  },
  {
   "cell_type": "markdown",
   "metadata": {},
   "source": [
    "### 3. Create a collection with the spectra\n",
    "\n",
    "We will use the [read_rawfile()](../../io/io_read.rst#araucaria.io.io_read.read_rawfile) function to read the files and include them in a [Collection](../../main/main_collection.rst#araucaria.main.collection.Collection):\n",
    "\n",
    "- We create an empty [Collection](../../main/main_collection.rst#araucaria.main.collection.Collection) to contain our group datasets.\n",
    "- Contents of the remote file are accesed with the [urlopen()](https://docs.python.org/3/library/urllib.request.html#urllib.request.urlopen) funcion.\n",
    "- The contents are directly passed to the [read_rawfile()](../../io/io_read.rst#araucaria.io.io_read.read_rawfile) function, and a group dataset is returned.\n",
    "- The group is then added to the collection with the [add_group()](../../main/main_collection.rst#araucaria.main.collection.Collection.add_group) method.\n",
    "- Once the collection has been populated we produce a summary report with the [sumary()](../../main/main_collection.rst#araucaria.main.collection.Collection.summary) method."
   ]
  },
  {
   "cell_type": "code",
   "execution_count": 4,
   "metadata": {
    "scrolled": false
   },
   "outputs": [
    {
     "name": "stdout",
     "output_type": "stream",
     "text": [
      "=======================================\n",
      "id  dataset             tag   mode  n  \n",
      "=======================================\n",
      "1   Se_CoSe_rt_01.xdi   scan  mu    1  \n",
      "2   Se_Cu2Se_rt_01.xdi  scan  mu    1  \n",
      "3   Se_CuSe_rt_01.xdi   scan  mu    1  \n",
      "=======================================\n"
     ]
    }
   ],
   "source": [
    "from araucaria import Collection\n",
    "from araucaria.io import read_rawfile\n",
    "\n",
    "collection = Collection()\n",
    "for i, url in enumerate(urls):\n",
    "    content = urlopen(url)\n",
    "    group   = read_rawfile(content, usecols=(0,2,1), scan='mu', ref=False, tol=1e-4)\n",
    "    collection.add_group(group)\n",
    "\n",
    "report = collection.summary()\n",
    "report.show()"
   ]
  },
  {
   "cell_type": "markdown",
   "metadata": {},
   "source": [
    "<div class=\"alert alert-warning\">\n",
    "    \n",
    "    **Warning**\n",
    "    \n",
    "    URLs or file formats in databases may change over time or between files. Therefore, it is your responsibility to check the validty of the URL or the file format before reading and processing spectra.\n",
    "</div>"
   ]
  },
  {
   "cell_type": "markdown",
   "metadata": {},
   "source": [
    "### 4. Plot processed spectra\n",
    "\n",
    "Prior to plotting we need to compute the normalized spectra and the extended x-ray fine strucure (EXAFS). For this we can use the [apply()](../../main/main_collection.rst#araucaria.main.collection.Collection.apply) method of the collection.\n",
    "\n",
    "We then use the [fig_xas_template()](../../plot_module.rst#araucaria.plot.template.fig_xas_template) function to create a `Figure` and `axes` objects with the following attributes:\n",
    "\n",
    "- 2 pre-defined panels for XANES and EXAFS spectra.\n",
    "- A dictionary to specify figure decorators (figpars).\n",
    "\n",
    "Once the figure template has been created we use a loop to populate the axes with the respective spectra."
   ]
  },
  {
   "cell_type": "code",
   "execution_count": 5,
   "metadata": {},
   "outputs": [
    {
     "data": {
      "image/png": "[encoded data removed]",
      "text/plain": [
       "<Figure size 432x288 with 2 Axes>"
      ]
     },
     "metadata": {
      "needs_background": "light"
     },
     "output_type": "display_data"
    }
   ],
   "source": [
    "from araucaria.xas import pre_edge, autobk\n",
    "from araucaria.plot import fig_xas_template\n",
    "import matplotlib.pyplot as plt\n",
    "\n",
    "# normalizing spectra and extracting exafs\n",
    "collection.apply(pre_edge)\n",
    "collection.apply(autobk)\n",
    "\n",
    "# figure decorators\n",
    "kweight = 2\n",
    "offset = [1.1, 1.8]\n",
    "figpars = {'e_range' : (12600, 12750),\n",
    "           'k_range' : (0, 15),\n",
    "           'kweight' : kweight}\n",
    "\n",
    "# declaring figure and populating axes\n",
    "fig, ax = fig_xas_template(panels='xe', fig_pars=figpars)\n",
    "names   = collection.get_names()\n",
    "for i, name in enumerate(names):\n",
    "    group = collection.get_group(name)\n",
    "    ax[0].plot(group.energy, group.norm + i*offset[0], label=name.split('_')[1])\n",
    "    ax[1].plot(group.k, group.k**kweight*group.chi + i*offset[1], label=name.split('_')[1])\n",
    "\n",
    "ax[0].legend(loc='lower right', edgecolor='k', fontsize=8)\n",
    "fig.tight_layout()\n",
    "plt.show()"
   ]
  }
 ],
 "metadata": {
  "kernelspec": {
   "display_name": "Python 3",
   "language": "python",
   "name": "python3"
  },
  "language_info": {
   "codemirror_mode": {
    "name": "ipython",
    "version": 3
   },
   "file_extension": ".py",
   "mimetype": "text/x-python",
   "name": "python",
   "nbconvert_exporter": "python",
   "pygments_lexer": "ipython3",
   "version": "3.9.4"
  }
 },
 "nbformat": 4,
 "nbformat_minor": 4
}
